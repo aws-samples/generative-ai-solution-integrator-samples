{
 "cells": [
  {
   "cell_type": "code",
   "execution_count": 3,
   "id": "7bc726f0-09f4-49dc-8924-b0b0ef745b6c",
   "metadata": {
    "tags": []
   },
   "outputs": [
    {
     "name": "stdout",
     "output_type": "stream",
     "text": [
      "Collecting sagemaker==2.214.3\n",
      "  Downloading sagemaker-2.214.3-py3-none-any.whl.metadata (14 kB)\n",
      "Requirement already satisfied: attrs<24,>=23.1.0 in /opt/conda/lib/python3.10/site-packages (from sagemaker==2.214.3) (23.1.0)\n",
      "Requirement already satisfied: boto3<2.0,>=1.33.3 in /opt/conda/lib/python3.10/site-packages (from sagemaker==2.214.3) (1.34.77)\n",
      "Requirement already satisfied: cloudpickle==2.2.1 in /opt/conda/lib/python3.10/site-packages (from sagemaker==2.214.3) (2.2.1)\n",
      "Requirement already satisfied: google-pasta in /opt/conda/lib/python3.10/site-packages (from sagemaker==2.214.3) (0.2.0)\n",
      "Requirement already satisfied: numpy<2.0,>=1.9.0 in /opt/conda/lib/python3.10/site-packages (from sagemaker==2.214.3) (1.26.4)\n",
      "Requirement already satisfied: protobuf<5.0,>=3.12 in /opt/conda/lib/python3.10/site-packages (from sagemaker==2.214.3) (4.25.1)\n",
      "Requirement already satisfied: smdebug-rulesconfig==1.0.1 in /opt/conda/lib/python3.10/site-packages (from sagemaker==2.214.3) (1.0.1)\n",
      "Requirement already satisfied: importlib-metadata<7.0,>=1.4.0 in /opt/conda/lib/python3.10/site-packages (from sagemaker==2.214.3) (4.11.3)\n",
      "Requirement already satisfied: packaging>=20.0 in /opt/conda/lib/python3.10/site-packages (from sagemaker==2.214.3) (23.2)\n",
      "Requirement already satisfied: pandas in /opt/conda/lib/python3.10/site-packages (from sagemaker==2.214.3) (2.1.3)\n",
      "Requirement already satisfied: pathos in /opt/conda/lib/python3.10/site-packages (from sagemaker==2.214.3) (0.3.1)\n",
      "Requirement already satisfied: schema in /opt/conda/lib/python3.10/site-packages (from sagemaker==2.214.3) (0.7.5)\n",
      "Requirement already satisfied: PyYAML~=6.0 in /opt/conda/lib/python3.10/site-packages/PyYAML-6.0-py3.10-linux-x86_64.egg (from sagemaker==2.214.3) (6.0)\n",
      "Requirement already satisfied: jsonschema in /opt/conda/lib/python3.10/site-packages (from sagemaker==2.214.3) (4.20.0)\n",
      "Requirement already satisfied: platformdirs in /opt/conda/lib/python3.10/site-packages (from sagemaker==2.214.3) (2.5.2)\n",
      "Requirement already satisfied: tblib<4,>=1.7.0 in /opt/conda/lib/python3.10/site-packages (from sagemaker==2.214.3) (1.7.0)\n",
      "Requirement already satisfied: urllib3<3.0.0,>=1.26.8 in /opt/conda/lib/python3.10/site-packages (from sagemaker==2.214.3) (1.26.18)\n",
      "Requirement already satisfied: requests in /opt/conda/lib/python3.10/site-packages (from sagemaker==2.214.3) (2.31.0)\n",
      "Requirement already satisfied: docker in /opt/conda/lib/python3.10/site-packages (from sagemaker==2.214.3) (6.1.3)\n",
      "Requirement already satisfied: tqdm in /opt/conda/lib/python3.10/site-packages (from sagemaker==2.214.3) (4.66.2)\n",
      "Requirement already satisfied: psutil in /opt/conda/lib/python3.10/site-packages (from sagemaker==2.214.3) (5.9.0)\n",
      "Requirement already satisfied: botocore<1.35.0,>=1.34.77 in /opt/conda/lib/python3.10/site-packages (from boto3<2.0,>=1.33.3->sagemaker==2.214.3) (1.34.77)\n",
      "Requirement already satisfied: jmespath<2.0.0,>=0.7.1 in /opt/conda/lib/python3.10/site-packages (from boto3<2.0,>=1.33.3->sagemaker==2.214.3) (0.10.0)\n",
      "Requirement already satisfied: s3transfer<0.11.0,>=0.10.0 in /opt/conda/lib/python3.10/site-packages (from boto3<2.0,>=1.33.3->sagemaker==2.214.3) (0.10.1)\n",
      "Requirement already satisfied: zipp>=0.5 in /opt/conda/lib/python3.10/site-packages (from importlib-metadata<7.0,>=1.4.0->sagemaker==2.214.3) (3.8.0)\n",
      "Requirement already satisfied: websocket-client>=0.32.0 in /opt/conda/lib/python3.10/site-packages (from docker->sagemaker==2.214.3) (0.58.0)\n",
      "Requirement already satisfied: charset-normalizer<4,>=2 in /opt/conda/lib/python3.10/site-packages (from requests->sagemaker==2.214.3) (3.3.2)\n",
      "Requirement already satisfied: idna<4,>=2.5 in /opt/conda/lib/python3.10/site-packages (from requests->sagemaker==2.214.3) (3.6)\n",
      "Requirement already satisfied: certifi>=2017.4.17 in /opt/conda/lib/python3.10/site-packages (from requests->sagemaker==2.214.3) (2024.2.2)\n",
      "Requirement already satisfied: six in /opt/conda/lib/python3.10/site-packages (from google-pasta->sagemaker==2.214.3) (1.16.0)\n",
      "Requirement already satisfied: jsonschema-specifications>=2023.03.6 in /opt/conda/lib/python3.10/site-packages (from jsonschema->sagemaker==2.214.3) (2023.11.2)\n",
      "Requirement already satisfied: referencing>=0.28.4 in /opt/conda/lib/python3.10/site-packages (from jsonschema->sagemaker==2.214.3) (0.31.1)\n",
      "Requirement already satisfied: rpds-py>=0.7.1 in /opt/conda/lib/python3.10/site-packages (from jsonschema->sagemaker==2.214.3) (0.13.2)\n",
      "Requirement already satisfied: python-dateutil>=2.8.2 in /opt/conda/lib/python3.10/site-packages (from pandas->sagemaker==2.214.3) (2.8.2)\n",
      "Requirement already satisfied: pytz>=2020.1 in /opt/conda/lib/python3.10/site-packages (from pandas->sagemaker==2.214.3) (2022.1)\n",
      "Requirement already satisfied: tzdata>=2022.1 in /opt/conda/lib/python3.10/site-packages (from pandas->sagemaker==2.214.3) (2023.3)\n",
      "Requirement already satisfied: ppft>=1.7.6.7 in /opt/conda/lib/python3.10/site-packages (from pathos->sagemaker==2.214.3) (1.7.6.7)\n",
      "Requirement already satisfied: dill>=0.3.7 in /opt/conda/lib/python3.10/site-packages (from pathos->sagemaker==2.214.3) (0.3.7)\n",
      "Requirement already satisfied: pox>=0.3.3 in /opt/conda/lib/python3.10/site-packages (from pathos->sagemaker==2.214.3) (0.3.3)\n",
      "Requirement already satisfied: multiprocess>=0.70.15 in /opt/conda/lib/python3.10/site-packages (from pathos->sagemaker==2.214.3) (0.70.15)\n",
      "Requirement already satisfied: contextlib2>=0.5.5 in /opt/conda/lib/python3.10/site-packages (from schema->sagemaker==2.214.3) (21.6.0)\n",
      "Downloading sagemaker-2.214.3-py3-none-any.whl (1.4 MB)\n",
      "\u001b[2K   \u001b[90m━━━━━━━━━━━━━━━━━━━━━━━━━━━━━━━━━━━━━━━━\u001b[0m \u001b[32m1.4/1.4 MB\u001b[0m \u001b[31m8.9 MB/s\u001b[0m eta \u001b[36m0:00:00\u001b[0m:00:01\u001b[0m00:01\u001b[0m\n",
      "\u001b[?25hInstalling collected packages: sagemaker\n",
      "  Attempting uninstall: sagemaker\n",
      "    Found existing installation: sagemaker 2.199.0\n",
      "    Uninstalling sagemaker-2.199.0:\n",
      "      Successfully uninstalled sagemaker-2.199.0\n",
      "Successfully installed sagemaker-2.214.3\n",
      "\u001b[33mWARNING: Running pip as the 'root' user can result in broken permissions and conflicting behaviour with the system package manager. It is recommended to use a virtual environment instead: https://pip.pypa.io/warnings/venv\u001b[0m\u001b[33m\n",
      "\u001b[0m\n",
      "\u001b[1m[\u001b[0m\u001b[34;49mnotice\u001b[0m\u001b[1;39;49m]\u001b[0m\u001b[39;49m A new release of pip is available: \u001b[0m\u001b[31;49m23.3.1\u001b[0m\u001b[39;49m -> \u001b[0m\u001b[32;49m24.0\u001b[0m\n",
      "\u001b[1m[\u001b[0m\u001b[34;49mnotice\u001b[0m\u001b[1;39;49m]\u001b[0m\u001b[39;49m To update, run: \u001b[0m\u001b[32;49mpip install --upgrade pip\u001b[0m\n"
     ]
    }
   ],
   "source": [
    "!pip install sagemaker==2.214.3"
   ]
  },
  {
   "cell_type": "code",
   "execution_count": 10,
   "id": "e5e03062-6e52-4377-b32b-bc0f6fd52521",
   "metadata": {
    "tags": []
   },
   "outputs": [
    {
     "name": "stdout",
     "output_type": "stream",
     "text": [
      "Get:1 http://security.debian.org/debian-security bullseye-security InRelease [48.4 kB]\n",
      "Get:2 http://deb.debian.org/debian bullseye InRelease [116 kB]\n",
      "Get:3 http://deb.debian.org/debian bullseye-updates InRelease [44.1 kB]\n",
      "Get:4 http://security.debian.org/debian-security bullseye-security/main amd64 Packages [271 kB]\n",
      "Get:5 http://deb.debian.org/debian bullseye/main amd64 Packages [8068 kB]\n",
      "Get:6 http://deb.debian.org/debian bullseye-updates/main amd64 Packages [18.8 kB]\n",
      "Fetched 8565 kB in 2s (4163 kB/s)\n",
      "Reading package lists... Done\n",
      "Reading package lists... Done\n",
      "Building dependency tree... Done\n",
      "Reading state information... Done\n",
      "The following additional packages will be installed:\n",
      "  libdrm-amdgpu1 libdrm-common libdrm-intel1 libdrm-nouveau2 libdrm-radeon1\n",
      "  libdrm2 libelf1 libgl1 libgl1-mesa-dri libglapi-mesa libglvnd0 libglx-mesa0\n",
      "  libglx0 libllvm11 libpciaccess0 libsensors-config libsensors5 libvulkan1\n",
      "  libwayland-client0 libx11-6 libx11-xcb1 libxcb-dri2-0 libxcb-dri3-0\n",
      "  libxcb-glx0 libxcb-present0 libxcb-randr0 libxcb-sync1 libxcb-xfixes0\n",
      "  libxdamage1 libxfixes3 libxshmfence1 libxxf86vm1 libz3-4 mesa-vulkan-drivers\n",
      "Suggested packages:\n",
      "  pciutils lm-sensors\n",
      "The following NEW packages will be installed:\n",
      "  libdrm-amdgpu1 libdrm-common libdrm-intel1 libdrm-nouveau2 libdrm-radeon1\n",
      "  libdrm2 libelf1 libgl1 libgl1-mesa-dri libgl1-mesa-glx libglapi-mesa\n",
      "  libglvnd0 libglx-mesa0 libglx0 libllvm11 libpciaccess0 libsensors-config\n",
      "  libsensors5 libvulkan1 libwayland-client0 libx11-xcb1 libxcb-dri2-0\n",
      "  libxcb-dri3-0 libxcb-glx0 libxcb-present0 libxcb-randr0 libxcb-sync1\n",
      "  libxcb-xfixes0 libxdamage1 libxfixes3 libxshmfence1 libxxf86vm1 libz3-4\n",
      "  mesa-vulkan-drivers\n",
      "The following packages will be upgraded:\n",
      "  libx11-6\n",
      "1 upgraded, 34 newly installed, 0 to remove and 61 not upgraded.\n",
      "Need to get 41.5 MB of archives.\n",
      "After this operation, 169 MB of additional disk space will be used.\n",
      "Get:1 http://deb.debian.org/debian bullseye/main amd64 libdrm-common all 2.4.104-1 [14.9 kB]\n",
      "Get:2 http://deb.debian.org/debian bullseye/main amd64 libdrm2 amd64 2.4.104-1 [41.5 kB]\n",
      "Get:3 http://deb.debian.org/debian bullseye/main amd64 libdrm-amdgpu1 amd64 2.4.104-1 [28.5 kB]\n",
      "Get:4 http://deb.debian.org/debian bullseye/main amd64 libpciaccess0 amd64 0.16-1 [53.6 kB]\n",
      "Get:5 http://deb.debian.org/debian bullseye/main amd64 libdrm-intel1 amd64 2.4.104-1 [71.8 kB]\n",
      "Get:6 http://deb.debian.org/debian bullseye/main amd64 libdrm-nouveau2 amd64 2.4.104-1 [26.8 kB]\n",
      "Get:7 http://deb.debian.org/debian bullseye/main amd64 libdrm-radeon1 amd64 2.4.104-1 [30.2 kB]\n",
      "Get:8 http://deb.debian.org/debian bullseye/main amd64 libelf1 amd64 0.183-1 [165 kB]\n",
      "Get:9 http://deb.debian.org/debian bullseye/main amd64 libglapi-mesa amd64 20.3.5-1 [71.7 kB]\n",
      "Get:10 http://deb.debian.org/debian bullseye/main amd64 libz3-4 amd64 4.8.10-1 [6949 kB]\n",
      "Get:11 http://deb.debian.org/debian bullseye/main amd64 libllvm11 amd64 1:11.0.1-2 [17.9 MB]\n",
      "Get:12 http://deb.debian.org/debian bullseye/main amd64 libsensors-config all 1:3.6.0-7 [32.3 kB]\n",
      "Get:13 http://deb.debian.org/debian bullseye/main amd64 libsensors5 amd64 1:3.6.0-7 [52.3 kB]\n",
      "Get:14 http://deb.debian.org/debian bullseye/main amd64 libvulkan1 amd64 1.2.162.0-1 [103 kB]\n",
      "Get:15 http://deb.debian.org/debian bullseye/main amd64 libgl1-mesa-dri amd64 20.3.5-1 [9633 kB]\n",
      "Get:16 http://deb.debian.org/debian bullseye/main amd64 libglvnd0 amd64 1.3.2-1 [53.6 kB]\n",
      "Get:17 http://deb.debian.org/debian bullseye/main amd64 libx11-6 amd64 2:1.7.2-1+deb11u2 [772 kB]\n",
      "Get:18 http://deb.debian.org/debian bullseye/main amd64 libx11-xcb1 amd64 2:1.7.2-1+deb11u2 [204 kB]\n",
      "Get:19 http://deb.debian.org/debian bullseye/main amd64 libxcb-dri2-0 amd64 1.14-3 [103 kB]\n",
      "Get:20 http://deb.debian.org/debian bullseye/main amd64 libxcb-dri3-0 amd64 1.14-3 [102 kB]\n",
      "Get:21 http://deb.debian.org/debian bullseye/main amd64 libxcb-glx0 amd64 1.14-3 [118 kB]\n",
      "Get:22 http://deb.debian.org/debian bullseye/main amd64 libxcb-present0 amd64 1.14-3 [101 kB]\n",
      "Get:23 http://deb.debian.org/debian bullseye/main amd64 libxcb-sync1 amd64 1.14-3 [105 kB]\n",
      "Get:24 http://deb.debian.org/debian bullseye/main amd64 libxcb-xfixes0 amd64 1.14-3 [105 kB]\n",
      "Get:25 http://deb.debian.org/debian bullseye/main amd64 libxdamage1 amd64 1:1.1.5-2 [15.7 kB]\n",
      "Get:26 http://deb.debian.org/debian bullseye/main amd64 libxfixes3 amd64 1:5.0.3-2 [22.1 kB]\n",
      "Get:27 http://deb.debian.org/debian bullseye/main amd64 libxshmfence1 amd64 1.3-1 [8820 B]\n",
      "Get:28 http://deb.debian.org/debian bullseye/main amd64 libxxf86vm1 amd64 1:1.1.4-1+b2 [20.8 kB]\n",
      "Get:29 http://deb.debian.org/debian bullseye/main amd64 libglx-mesa0 amd64 20.3.5-1 [186 kB]\n",
      "Get:30 http://deb.debian.org/debian bullseye/main amd64 libglx0 amd64 1.3.2-1 [35.7 kB]\n",
      "Get:31 http://deb.debian.org/debian bullseye/main amd64 libgl1 amd64 1.3.2-1 [89.5 kB]\n",
      "Get:32 http://deb.debian.org/debian bullseye/main amd64 libgl1-mesa-glx amd64 20.3.5-1 [51.1 kB]\n",
      "Get:33 http://deb.debian.org/debian bullseye/main amd64 libwayland-client0 amd64 1.18.0-2~exp1.1 [26.9 kB]\n",
      "Get:34 http://deb.debian.org/debian bullseye/main amd64 libxcb-randr0 amd64 1.14-3 [113 kB]\n",
      "Get:35 http://deb.debian.org/debian bullseye/main amd64 mesa-vulkan-drivers amd64 20.3.5-1 [4086 kB]\n",
      "Fetched 41.5 MB in 0s (87.2 MB/s)               \n",
      "debconf: delaying package configuration, since apt-utils is not installed\n",
      "Selecting previously unselected package libdrm-common.\n",
      "(Reading database ... 21532 files and directories currently installed.)\n",
      "Preparing to unpack .../00-libdrm-common_2.4.104-1_all.deb ...\n",
      "Unpacking libdrm-common (2.4.104-1) ...\n",
      "Selecting previously unselected package libdrm2:amd64.\n",
      "Preparing to unpack .../01-libdrm2_2.4.104-1_amd64.deb ...\n",
      "Unpacking libdrm2:amd64 (2.4.104-1) ...\n",
      "Selecting previously unselected package libdrm-amdgpu1:amd64.\n",
      "Preparing to unpack .../02-libdrm-amdgpu1_2.4.104-1_amd64.deb ...\n",
      "Unpacking libdrm-amdgpu1:amd64 (2.4.104-1) ...\n",
      "Selecting previously unselected package libpciaccess0:amd64.\n",
      "Preparing to unpack .../03-libpciaccess0_0.16-1_amd64.deb ...\n",
      "Unpacking libpciaccess0:amd64 (0.16-1) ...\n",
      "Selecting previously unselected package libdrm-intel1:amd64.\n",
      "Preparing to unpack .../04-libdrm-intel1_2.4.104-1_amd64.deb ...\n",
      "Unpacking libdrm-intel1:amd64 (2.4.104-1) ...\n",
      "Selecting previously unselected package libdrm-nouveau2:amd64.\n",
      "Preparing to unpack .../05-libdrm-nouveau2_2.4.104-1_amd64.deb ...\n",
      "Unpacking libdrm-nouveau2:amd64 (2.4.104-1) ...\n",
      "Selecting previously unselected package libdrm-radeon1:amd64.\n",
      "Preparing to unpack .../06-libdrm-radeon1_2.4.104-1_amd64.deb ...\n",
      "Unpacking libdrm-radeon1:amd64 (2.4.104-1) ...\n",
      "Selecting previously unselected package libelf1:amd64.\n",
      "Preparing to unpack .../07-libelf1_0.183-1_amd64.deb ...\n",
      "Unpacking libelf1:amd64 (0.183-1) ...\n",
      "Selecting previously unselected package libglapi-mesa:amd64.\n",
      "Preparing to unpack .../08-libglapi-mesa_20.3.5-1_amd64.deb ...\n",
      "Unpacking libglapi-mesa:amd64 (20.3.5-1) ...\n",
      "Selecting previously unselected package libz3-4:amd64.\n",
      "Preparing to unpack .../09-libz3-4_4.8.10-1_amd64.deb ...\n",
      "Unpacking libz3-4:amd64 (4.8.10-1) ...\n",
      "Selecting previously unselected package libllvm11:amd64.\n",
      "Preparing to unpack .../10-libllvm11_1%3a11.0.1-2_amd64.deb ...\n",
      "Unpacking libllvm11:amd64 (1:11.0.1-2) ...\n",
      "Selecting previously unselected package libsensors-config.\n",
      "Preparing to unpack .../11-libsensors-config_1%3a3.6.0-7_all.deb ...\n",
      "Unpacking libsensors-config (1:3.6.0-7) ...\n",
      "Selecting previously unselected package libsensors5:amd64.\n",
      "Preparing to unpack .../12-libsensors5_1%3a3.6.0-7_amd64.deb ...\n",
      "Unpacking libsensors5:amd64 (1:3.6.0-7) ...\n",
      "Selecting previously unselected package libvulkan1:amd64.\n",
      "Preparing to unpack .../13-libvulkan1_1.2.162.0-1_amd64.deb ...\n",
      "Unpacking libvulkan1:amd64 (1.2.162.0-1) ...\n",
      "Selecting previously unselected package libgl1-mesa-dri:amd64.\n",
      "Preparing to unpack .../14-libgl1-mesa-dri_20.3.5-1_amd64.deb ...\n",
      "Unpacking libgl1-mesa-dri:amd64 (20.3.5-1) ...\n",
      "Selecting previously unselected package libglvnd0:amd64.\n",
      "Preparing to unpack .../15-libglvnd0_1.3.2-1_amd64.deb ...\n",
      "Unpacking libglvnd0:amd64 (1.3.2-1) ...\n",
      "Preparing to unpack .../16-libx11-6_2%3a1.7.2-1+deb11u2_amd64.deb ...\n",
      "Unpacking libx11-6:amd64 (2:1.7.2-1+deb11u2) over (2:1.7.2-1) ...\n",
      "Selecting previously unselected package libx11-xcb1:amd64.\n",
      "Preparing to unpack .../17-libx11-xcb1_2%3a1.7.2-1+deb11u2_amd64.deb ...\n",
      "Unpacking libx11-xcb1:amd64 (2:1.7.2-1+deb11u2) ...\n",
      "Selecting previously unselected package libxcb-dri2-0:amd64.\n",
      "Preparing to unpack .../18-libxcb-dri2-0_1.14-3_amd64.deb ...\n",
      "Unpacking libxcb-dri2-0:amd64 (1.14-3) ...\n",
      "Selecting previously unselected package libxcb-dri3-0:amd64.\n",
      "Preparing to unpack .../19-libxcb-dri3-0_1.14-3_amd64.deb ...\n",
      "Unpacking libxcb-dri3-0:amd64 (1.14-3) ...\n",
      "Selecting previously unselected package libxcb-glx0:amd64.\n",
      "Preparing to unpack .../20-libxcb-glx0_1.14-3_amd64.deb ...\n",
      "Unpacking libxcb-glx0:amd64 (1.14-3) ...\n",
      "Selecting previously unselected package libxcb-present0:amd64.\n",
      "Preparing to unpack .../21-libxcb-present0_1.14-3_amd64.deb ...\n",
      "Unpacking libxcb-present0:amd64 (1.14-3) ...\n",
      "Selecting previously unselected package libxcb-sync1:amd64.\n",
      "Preparing to unpack .../22-libxcb-sync1_1.14-3_amd64.deb ...\n",
      "Unpacking libxcb-sync1:amd64 (1.14-3) ...\n",
      "Selecting previously unselected package libxcb-xfixes0:amd64.\n",
      "Preparing to unpack .../23-libxcb-xfixes0_1.14-3_amd64.deb ...\n",
      "Unpacking libxcb-xfixes0:amd64 (1.14-3) ...\n",
      "Selecting previously unselected package libxdamage1:amd64.\n",
      "Preparing to unpack .../24-libxdamage1_1%3a1.1.5-2_amd64.deb ...\n",
      "Unpacking libxdamage1:amd64 (1:1.1.5-2) ...\n",
      "Selecting previously unselected package libxfixes3:amd64.\n",
      "Preparing to unpack .../25-libxfixes3_1%3a5.0.3-2_amd64.deb ...\n",
      "Unpacking libxfixes3:amd64 (1:5.0.3-2) ...\n",
      "Selecting previously unselected package libxshmfence1:amd64.\n",
      "Preparing to unpack .../26-libxshmfence1_1.3-1_amd64.deb ...\n",
      "Unpacking libxshmfence1:amd64 (1.3-1) ...\n",
      "Selecting previously unselected package libxxf86vm1:amd64.\n",
      "Preparing to unpack .../27-libxxf86vm1_1%3a1.1.4-1+b2_amd64.deb ...\n",
      "Unpacking libxxf86vm1:amd64 (1:1.1.4-1+b2) ...\n",
      "Selecting previously unselected package libglx-mesa0:amd64.\n",
      "Preparing to unpack .../28-libglx-mesa0_20.3.5-1_amd64.deb ...\n",
      "Unpacking libglx-mesa0:amd64 (20.3.5-1) ...\n",
      "Selecting previously unselected package libglx0:amd64.\n",
      "Preparing to unpack .../29-libglx0_1.3.2-1_amd64.deb ...\n",
      "Unpacking libglx0:amd64 (1.3.2-1) ...\n",
      "Selecting previously unselected package libgl1:amd64.\n",
      "Preparing to unpack .../30-libgl1_1.3.2-1_amd64.deb ...\n",
      "Unpacking libgl1:amd64 (1.3.2-1) ...\n",
      "Selecting previously unselected package libgl1-mesa-glx:amd64.\n",
      "Preparing to unpack .../31-libgl1-mesa-glx_20.3.5-1_amd64.deb ...\n",
      "Unpacking libgl1-mesa-glx:amd64 (20.3.5-1) ...\n",
      "Selecting previously unselected package libwayland-client0:amd64.\n",
      "Preparing to unpack .../32-libwayland-client0_1.18.0-2~exp1.1_amd64.deb ...\n",
      "Unpacking libwayland-client0:amd64 (1.18.0-2~exp1.1) ...\n",
      "Selecting previously unselected package libxcb-randr0:amd64.\n",
      "Preparing to unpack .../33-libxcb-randr0_1.14-3_amd64.deb ...\n",
      "Unpacking libxcb-randr0:amd64 (1.14-3) ...\n",
      "Selecting previously unselected package mesa-vulkan-drivers:amd64.\n",
      "Preparing to unpack .../34-mesa-vulkan-drivers_20.3.5-1_amd64.deb ...\n",
      "Unpacking mesa-vulkan-drivers:amd64 (20.3.5-1) ...\n",
      "Setting up libxcb-dri3-0:amd64 (1.14-3) ...\n",
      "Setting up libpciaccess0:amd64 (0.16-1) ...\n",
      "Setting up libxcb-xfixes0:amd64 (1.14-3) ...\n",
      "Setting up libglvnd0:amd64 (1.3.2-1) ...\n",
      "Setting up libxcb-glx0:amd64 (1.14-3) ...\n",
      "Setting up libsensors-config (1:3.6.0-7) ...\n",
      "Setting up libxcb-present0:amd64 (1.14-3) ...\n",
      "Setting up libz3-4:amd64 (4.8.10-1) ...\n",
      "Setting up libllvm11:amd64 (1:11.0.1-2) ...\n",
      "Setting up libxcb-sync1:amd64 (1.14-3) ...\n",
      "Setting up libsensors5:amd64 (1:3.6.0-7) ...\n",
      "Setting up libglapi-mesa:amd64 (20.3.5-1) ...\n",
      "Setting up libvulkan1:amd64 (1.2.162.0-1) ...\n",
      "Setting up libxcb-dri2-0:amd64 (1.14-3) ...\n",
      "Setting up libxshmfence1:amd64 (1.3-1) ...\n",
      "Setting up libxcb-randr0:amd64 (1.14-3) ...\n",
      "Setting up libx11-6:amd64 (2:1.7.2-1+deb11u2) ...\n",
      "Setting up libdrm-common (2.4.104-1) ...\n",
      "Setting up libelf1:amd64 (0.183-1) ...\n",
      "Setting up libwayland-client0:amd64 (1.18.0-2~exp1.1) ...\n",
      "Setting up libx11-xcb1:amd64 (2:1.7.2-1+deb11u2) ...\n",
      "Setting up libxdamage1:amd64 (1:1.1.5-2) ...\n",
      "Setting up libxxf86vm1:amd64 (1:1.1.4-1+b2) ...\n",
      "Setting up libxfixes3:amd64 (1:5.0.3-2) ...\n",
      "Setting up libdrm2:amd64 (2.4.104-1) ...\n",
      "Setting up libdrm-amdgpu1:amd64 (2.4.104-1) ...\n",
      "Setting up mesa-vulkan-drivers:amd64 (20.3.5-1) ...\n",
      "Setting up libdrm-nouveau2:amd64 (2.4.104-1) ...\n",
      "Setting up libdrm-radeon1:amd64 (2.4.104-1) ...\n",
      "Setting up libdrm-intel1:amd64 (2.4.104-1) ...\n",
      "Setting up libgl1-mesa-dri:amd64 (20.3.5-1) ...\n",
      "Setting up libglx-mesa0:amd64 (20.3.5-1) ...\n",
      "Setting up libglx0:amd64 (1.3.2-1) ...\n",
      "Setting up libgl1:amd64 (1.3.2-1) ...\n",
      "Setting up libgl1-mesa-glx:amd64 (20.3.5-1) ...\n",
      "Processing triggers for libc-bin (2.31-13+deb11u3) ...\n"
     ]
    }
   ],
   "source": [
    "!apt-get update -y\n",
    "!apt-get install -y libgl1-mesa-glx"
   ]
  },
  {
   "cell_type": "code",
   "execution_count": 4,
   "id": "1090000a-410a-4647-8c54-06e0e59d0429",
   "metadata": {
    "tags": []
   },
   "outputs": [
    {
     "name": "stdout",
     "output_type": "stream",
     "text": [
      "sagemaker.config INFO - Not applying SDK defaults from location: /etc/xdg/sagemaker/config.yaml\n",
      "sagemaker.config INFO - Not applying SDK defaults from location: /root/.config/sagemaker/config.yaml\n",
      "sagemaker.config INFO - Not applying SDK defaults from location: /etc/xdg/sagemaker/config.yaml\n",
      "sagemaker.config INFO - Not applying SDK defaults from location: /root/.config/sagemaker/config.yaml\n",
      "sagemaker.config INFO - Not applying SDK defaults from location: /etc/xdg/sagemaker/config.yaml\n",
      "sagemaker.config INFO - Not applying SDK defaults from location: /root/.config/sagemaker/config.yaml\n",
      "------!"
     ]
    }
   ],
   "source": [
    "import sagemaker\n",
    "import boto3\n",
    "from sagemaker.huggingface import HuggingFaceModel\n",
    "\n",
    "try:\n",
    "\trole = sagemaker.get_execution_role()\n",
    "except ValueError:\n",
    "\tiam = boto3.client('iam')\n",
    "\trole = iam.get_role(RoleName='sagemaker_execution_role')['Role']['Arn']\n",
    "\n",
    "# Hub Model configuration. https://huggingface.co/models\n",
    "hub = {\n",
    "\t'HF_MODEL_ID':'mattmdjaga/segformer_b2_clothes',\n",
    "\t'HF_TASK':'image-segmentation'\n",
    "}\n",
    "\n",
    "# create Hugging Face Model Class\n",
    "huggingface_model = HuggingFaceModel(\n",
    "\ttransformers_version='4.37.0',\n",
    "\tpytorch_version='2.1.0',\n",
    "\tpy_version='py310',\n",
    "\tenv=hub,\n",
    "\trole=role, \n",
    ")\n",
    "\n",
    "# deploy model to SageMaker Inference\n",
    "predictor = huggingface_model.deploy(\n",
    "\tinitial_instance_count=1, # number of instances\n",
    "\tinstance_type='ml.m5.xlarge' # ec2 instance type\n",
    ")\n",
    "\n"
   ]
  },
  {
   "cell_type": "code",
   "execution_count": 6,
   "id": "2c9fd4b2-a3fc-4998-a2f4-1b16392beb4a",
   "metadata": {
    "tags": []
   },
   "outputs": [
    {
     "data": {
      "text/plain": [
       "<sagemaker.huggingface.model.HuggingFacePredictor at 0x7f9cf76074c0>"
      ]
     },
     "execution_count": 6,
     "metadata": {},
     "output_type": "execute_result"
    }
   ],
   "source": [
    "predictor"
   ]
  },
  {
   "cell_type": "code",
   "execution_count": 11,
   "id": "c78c867a-1638-4d8f-b60c-8f24351a7db5",
   "metadata": {
    "tags": []
   },
   "outputs": [
    {
     "name": "stderr",
     "output_type": "stream",
     "text": [
      "/tmp/ipykernel_1076/2291145047.py:18: DeprecationWarning: The binary mode of fromstring is deprecated, as it behaves surprisingly on unicode inputs. Use frombuffer instead\n",
      "  nparr = np.fromstring(pred_decoded_byte, np.uint8)\n"
     ]
    },
    {
     "data": {
      "image/png": "[encoded data removed]",
      "text/plain": [
       "<Figure size 640x480 with 1 Axes>"
      ]
     },
     "metadata": {},
     "output_type": "display_data"
    },
    {
     "name": "stderr",
     "output_type": "stream",
     "text": [
      "/tmp/ipykernel_1076/2291145047.py:26: DeprecationWarning: The binary mode of fromstring is deprecated, as it behaves surprisingly on unicode inputs. Use frombuffer instead\n",
      "  nparr = np.fromstring(pred_decoded_byte, np.uint8)\n"
     ]
    },
    {
     "data": {
      "image/png": "[encoded data removed]",
      "text/plain": [
       "<Figure size 640x480 with 1 Axes>"
      ]
     },
     "metadata": {},
     "output_type": "display_data"
    }
   ],
   "source": [
    "from sagemaker.serializers import DataSerializer\n",
    "import json\n",
    "import base64\n",
    "import matplotlib.pyplot as plt \n",
    "import numpy as np  \n",
    "import cv2\n",
    "\n",
    "predictor.serializer = DataSerializer(content_type='image/x-image')\n",
    "\n",
    "# Make sure the input file \"cats.jpg\" exists\n",
    "with open(\"idol.jpeg\", \"rb\") as f:\n",
    "\tdata = f.read()\n",
    "result = predictor.predict(data)\n",
    "\n",
    "for i in result:\n",
    "    if i['label'] == 'Upper-clothes':\n",
    "        pred_decoded_byte = base64.decodebytes(bytes(i['mask'], encoding=\"utf-8\"))\n",
    "        nparr = np.fromstring(pred_decoded_byte, np.uint8)\n",
    "        img_np = cv2.imdecode(nparr, cv2.IMREAD_COLOR) # cv2.IMREAD_COLOR in OpenCV 3.1\n",
    "\n",
    "        cv2.imwrite('test-result.png', img_np)\n",
    "        plt.imshow(img_np)\n",
    "        plt.show()\n",
    "    elif i['label'] == 'Pants':\n",
    "        pred_decoded_byte = base64.decodebytes(bytes(i['mask'], encoding=\"utf-8\"))\n",
    "        nparr = np.fromstring(pred_decoded_byte, np.uint8)\n",
    "        img_np2 = cv2.imdecode(nparr, cv2.IMREAD_COLOR) # cv2.IMREAD_COLOR in OpenCV 3.1\n",
    "\n",
    "        cv2.imwrite('test2-result.png', img_np2)\n",
    "        plt.imshow(img_np2)\n",
    "        plt.show()"
   ]
  },
  {
   "cell_type": "code",
   "execution_count": 1,
   "id": "97ffd436-5be0-45d8-8ba8-3e3bec758fda",
   "metadata": {
    "ExecuteTime": {
     "end_time": "2024-04-23T06:20:33.530645Z",
     "start_time": "2024-04-23T06:20:33.527947Z"
    }
   },
   "outputs": [],
   "source": [
    "import boto3"
   ]
  },
  {
   "cell_type": "code",
   "execution_count": 2,
   "id": "3fc32a129b185542",
   "metadata": {
    "ExecuteTime": {
     "end_time": "2024-04-23T06:20:33.876023Z",
     "start_time": "2024-04-23T06:20:33.870531Z"
    }
   },
   "outputs": [],
   "source": [
    "runtime = boto3.client('sagemaker-runtime')"
   ]
  },
  {
   "cell_type": "code",
   "execution_count": 3,
   "id": "5387a3c771502b1f",
   "metadata": {
    "ExecuteTime": {
     "end_time": "2024-04-23T06:20:34.401153Z",
     "start_time": "2024-04-23T06:20:34.398325Z"
    }
   },
   "outputs": [],
   "source": [
    "with open(\"input/idol.jpeg\", \"rb\") as f:\n",
    "\tdata = f.read()"
   ]
  },
  {
   "cell_type": "code",
   "execution_count": 18,
   "id": "e26fce541f4f4608",
   "metadata": {
    "ExecuteTime": {
     "end_time": "2024-04-23T06:20:37.165607Z",
     "start_time": "2024-04-23T06:20:35.017899Z"
    }
   },
   "outputs": [],
   "source": [
    "response = runtime.invoke_endpoint(\n",
    "    EndpointName='huggingface-pytorch-inference-2024-04-09-07-18-10-488',\n",
    "    ContentType='image/x-image',\n",
    "    Body=data\n",
    ")"
   ]
  },
  {
   "cell_type": "code",
   "execution_count": 16,
   "id": "a684fd3b42dc143a",
   "metadata": {
    "ExecuteTime": {
     "end_time": "2024-04-23T06:18:31.531086Z",
     "start_time": "2024-04-23T06:18:31.518243Z"
    }
   },
   "outputs": [
    {
     "name": "stdout",
     "output_type": "stream",
     "text": [
      "[{\"score\":null,\"label\":\"Background\",\"mask\":\"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\"},{\"score\":null,\"label\":\"Hair\",\"mask\":\"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\"},{\"score\":null,\"label\":\"Upper-clothes\",\"mask\":\"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\"},{\"score\":null,\"label\":\"Pants\",\"mask\":\"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\"},{\"score\":null,\"label\":\"Left-shoe\",\"mask\":\"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\"},{\"score\":null,\"label\":\"Right-shoe\",\"mask\":\"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\"},{\"score\":null,\"label\":\"Face\",\"mask\":\"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\"},{\"score\":null,\"label\":\"Left-leg\",\"mask\":\"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\"},{\"score\":null,\"label\":\"Right-leg\",\"mask\":\"iVBORw0KGgoAAAANSUhEUgAAA+gAAAXhCAAAAAAsF+/KAAAGdElEQVR4nO3aQQqDQBAAwTHk/18254DmFFzYrjrluOB0RtQZAAAAAAAAAAAAAAAAAAAAAAAAAAAAAAAAAAAAAAAAAAAAAAAAAAAAAAAAAAAAAAAAAAAAAAAAAAAAAAAAAAAAAAAAAAAAAAAAAAAAAAAAAAAAAAAAAAAAAAAAAAAAAAAAAAAAAAAAAAAAAAAAAAAAAAAAAAAAAAAAAAAAAAAAAAAAAAAAAAAAAAAAAAAAAAAAAAAAAAAAAAAAAAAAAAAAAAAAAAAAAAAAAAAAAAAAAAAAAAAAAAAAAAAAAAAAAAAAAAAAAAAAAAAAAAAAAAAAAAAAAAAAAAAAAAAAAAAAAAAAAAAAAAAAAAAAAAAAAAAAAAAAAAAAAAAAAAAAAAAAAAAAAAAAAAAAAAAAAAAAAAAAAAAAAAAAAAAAAAAAAAAAAAAAAAAAAAAAAAAAAAAAAAAAAAAAAAAAAAAAAAAAAAAAAAAAAAAAAAAAAAAAAAAAAAAAAAAAAAAAAAAAAAAAAAAAAAAAAAAAAAAAAAAAAAAAAAAAAAAAAAAAAAAAAAAAAAAAAAAAAAAAAAAAAAAAAAAAAAAAAAAAAAAAAAAAAAAAAAAAAAAAAAAAAAAAAAAAAAAAAAAAAAAAAAAAAAAAAAAAAAAAAAAAAAAAAAAAAAAAAAAAAAAAAAAAAAAAAAAAAAAAAAAAAAAAAAAAAAAAAAAAAAAAAAAAAAAAAAAAAAAAAAAAAAAAAAAAAAAAAAAAAAAAAAAAAAAAAAAAAAAAAAAAAAAAAAAAAAAAAAAAAAAAAAAAAAAAAAAAAAAAAAAAAAAAAAAAAAAAAAAAAAAAAAAAAAAAAAAAAAAAAAAAAAAAAAAAAAAAAAAAAAAAAAAAAAAAAAAAAAAAAAAAAAAAAAAAAAAAAAAAAAAAAAAAAAAAAAAAAAAAAAAAAAAAAAAAAAAAAAAAAAAAAAAAAAAAAAAAAAAAAAAAAAAAAAAAAAAAAAAAAAAAAAAAAAAAAAAAAAAAAAAAAAAAAAAAAAAAAAAAAAAAAAAAAAAAAAAAAAAAAAAAAAAAAAAAAAAAAAAAAAAAAAAAAAAAAAAAAAAAAAAAAAAAAAAAAAAAAAAAAAAAAAAAAAAAAAAAAAAAAAAAAAAAAAAAAAAAAAAAAAAAAAAAAAAAAAAAAAAAAAAAAAAAAAAAAAAAAAAAAAAAAAAAAAAAAAAAAAAAAAAAAAAAAAAAAAAAAAAAAAAAAAAAAAAAAAAAAAAAAAAAAAAAAAAAAAAAAAAAAAAAAAAAAAAAAAAAAAAAAAAAAAAAAAAAAAAAAAAAAAAAAAAAAAAAAAAAAAAAAAAAAAAAAAAAAAAAAAAAAAAAAAAAAAAAAAAAAAAAAAAAAAAAAAAAAAAAAAAAAAAAAAAAAAAAAAAAAAAAAAAAAAAAAAAAAAAAAAAAAAAAAAAAAAAAAAAAAAAAAAAAAAAAAAAAAAAAAAAAAAAAAAAAAAAAAAAAAAAAAAAAAAAAAAAAAAAAAAAAAAAAAAAAAAAAAAAAAAAAAAAAAAAAAAAAAAAAAAAAAAAAAAAAAAAAAAAAAAAAAAAAAAAAAAAAAAAAAAAAAAAAAAAAAAAAAAAAAAAAAAAAAAAAAAAAAAAAAAAAAAAAAAAAAAAAAAAAAAAAAAAAAAAAAAAAAAAAAAAAAAAAAAAAAAAAAAAAAAAAAAAAAAAAAAAAAAAAAAAAAAAAAAAAAAAAAAAAAAAAAAAAAAAAAAAAAAAA4o7VB2CdcwxAxXv1AVjhXH0AHuYPvee7chOQYKPXWOZJQi8ReZbQM1ReJvQGlce9Vh+AJ+i8zkYPkDk2+v50jo2+PZkzNvr2dM6M0CFB6JvzhSszQocEoUOA0CFA6BAgdAgQOgR4+xLw86MZE5DgMkfcxm4CEty6RxyCThN6htLLXP2Si/t3A9Bgo5eoOkvoKUqvEnqLZ3JRQq9RepLQ22QfIfQcbRcJvee4/MnWhB4k7x6hFyk9R+hJ3rIBAAAAAAAAAAAAAAAAAAAAAAAAAAAAAAAAAAAAAAAAAAAAAAAAAAAAAAAAAAAAAAAAAAAAAAAAAAAAAAAAAAAAAAAAAAAAAAAAAAAAAAAAAAAAAAAAAAAAAAAAAAAAAAAAAAAAAAAAAAAAAAAAAAAAAAAAAAAAAAAAAAAAAAAAAAAAAAAAAAAAAAAAAAAAAAAAAAAAAADAn30AexsPVxxkgSEAAAAASUVORK5CYII=\"},{\"score\":null,\"label\":\"Left-arm\",\"mask\":\"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\"},{\"score\":null,\"label\":\"Right-arm\",\"mask\":\"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\"},{\"score\":null,\"label\":\"Bag\",\"mask\":\"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\"}]\n"
     ]
    }
   ],
   "source": [
    "print(response['Body'].read().decode('utf-8'))\n",
    "#import json\n",
    "#result = json.load(response['Body'].read())"
   ]
  },
  {
   "cell_type": "code",
   "execution_count": 19,
   "id": "e66b81be-7199-4a81-a190-86ed736c34e1",
   "metadata": {},
   "outputs": [],
   "source": [
    "result = response['Body'].read().decode('utf-8')"
   ]
  },
  {
   "cell_type": "code",
   "execution_count": 23,
   "id": "33005d8c-f2ac-446a-b824-706d304f6d92",
   "metadata": {},
   "outputs": [
    {
     "name": "stdout",
     "output_type": "stream",
     "text": [
      "[{'score': None, 'label': 'Background', 'mask': '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'}, {'score': None, 'label': 'Hair', 'mask': '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'}, {'score': None, 'label': 'Upper-clothes', 'mask': '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'}, {'score': None, 'label': 'Pants', 'mask': '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'}, {'score': None, 'label': 'Left-shoe', 'mask': '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'}, {'score': None, 'label': 'Right-shoe', 'mask': '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'}, {'score': None, 'label': 'Face', 'mask': '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'}, {'score': None, 'label': 'Left-leg', 'mask': 'iVBORw0KGgoAAAANSUhEUgAAA+gAAAXhCAAAAAAsF+/KAAAGqklEQVR4nO3cy04CURBFUTT+/y/jQAcEokIszulQaw0ZdW7Xpgiv0wkAAAAAAAAAAAAAAAAAAAAAAAAAAAAAAAAAAAAAAAAAAAAAAAAAAAAAAAAAAAAAAAAAAAAAAAAAAAAAAAAAAAAAAAAAAAAAAAAAAAAAAAAAAAAAAAAAAAAAAAAAAAAAAAAAAAAAAAAAAAAAAAAAAAAAAAAAAAAAAAAAAAAAAAAAAAAAAAAAAAAAAAAAAAAAAAAAAAAAAAAAAAAAAAAAAAAAAAAAAAAAAAAAAAAAAAAAAAAAAAAAAAAAAAAAAAAAAAAAAAAAAAAAAAAAAAAAAAAAAAAAAAAAAAAAAAAAAAAAAAAAAAAAAAAAAAAAAAAAAAAAAAAAAAAAAAAAAAAAAAAAAAAAAAAAAAAAAAAAAAAAAAAAAAAAAAAAAAAAAAAAAAAAAAAAAAAAAAAAAAAAAAAAAAAAAAAAAAAAAAAAAAAAAAAAAAAAAAAAAAAAAAAAAAAAAAAAAAAAAAAAAAAAAAAAAAAAAAAAAAAAAAAAAAAAAAAAAAAAAAAAAAAAAAAAAAAAAAAAAAAAAAAAAAAAAAAAAAAAAAAAAAAAAAAAAAAAAAAAAAAAAAAAAAAAAAAAAAAAAAAAAAAAAAAAAAAAAAAAAAAAAAAAAAAAAAAAAAAAAAAAAAAAAAAAAAAAAAAAAAAAAAAAAAAAAAAAAAAAAAAAAAAAAAAAAAAAAAAAAAAAAAAAAAAAAAAAAAAAAAAAAAAAAAAAAAAAAAAAAAAAAAAAAAAAAAAAAAAAAAAAAAAAAAAAAAAAAAAAAAAAAAAAAAAAAAAAAAAAAAAAAAAAAAAAAAAAAAAAAAAAAAAAAAAAAAAAAAAAAAAAAAAAAAAAAAAAAAAAAAAAAAAAAAAAAAAAAAAAAAAAAAAAAAAAAAAAAAAAAAAAAAAAAAAAAAAAAAAAAAAAAAAAAAAAAAAAAAAAAAAAAAAAAAAAAAAAAAAAAAAAAAAAAAAAAAAAAAAAAAAAAAAAAAAAAAAAAAAAAAAAAAAAAAAAAAAAAAAAAAAAAAAAAAAAAAAAAAAAAAAAAAAAAAAAAAAAAAAAAAAAAAAAAAAAAAAAAAAAAAAAAAAAAAAAAAAAAAAAAAAAAAAAAAAAAAAAAAAAAAAAAAAAAAAAAAAAAAAAAAAAAAAAAAAAAAAAAAAAAAAAAAAAAAAAAAAAAAAAAAAAAAAAAAAAAAAAAAAAAAAAAAAAAAAAAAAAAAAAAAAAAAAAAAAAAAAAAAAAAAAAAAAAAAAAAAAAAAAAAAAAAAAAAAAAAAAAAAAAAAAAAAAAAAAAAAAAAAAAAAAAAAAAAAAAAAAAAAAAAAAAAAAAAAAAAAAAAAAAAAAAAAAAAAAAAAAAAAAAAAAAAAAAAAAAAAAAAAAAAAAAAAAAAAAAAAAAAAAAAAAAAAAAAAAAAAAAAAAAAAAAAAAAAAAAAAAAAAAAAAAAAAAAAAAAAAAAAAAAAAAAAAAAAAAAAAAAAAAAAAAAAAAAAAAAAAAAAAAAAAAAAAAAAAAAAAAAAAAAAAAAAAAAAAAAAAAAAAAAAAAAAAAAAAAAAAAAAAAAAAAAAAAAAAAAAAAAAAAAAAAAAAAAAAAAAAAAAAAAAAAAAAAAAAAAAAAAAAAAAAAAAAAAAAAAAAAAAAAAAAAAAAAAAAAAAAAAAAAAAAAAAAAAAAAAAAAAAAAAAAAAAAAAAAAAAAAAAAAAAAAAAAAAAAAAAAAAAAAAAACAV/fWvgBe1Pn6AaPW5PSZdpP4DVMX58gZ9nfn38xe0Hv7AljrfPdTAv8mdFhA6Mx6ZE1b6TFChwWEDgsIHRYQOj0+YIsROiwgdFhA6NR45Z4jdGap95CEDgsInRa7P0josIDQKbHQk4QOCwidDgs9SuhU6DxL6DToPOyjfQEsJPM4G51Zd/xrjM7zhE6azguETpjOG4ROls4rhE6UzjucO6N+fy/OuLXY6OTovEboxOi8R+iwgNBJsdCLhA4LCJ1RP69tC71J6GTovEroROi8y89UCZB5m9B5NpUfgJvAsKsvwZqwQ3AbmHZZuvk6CDeCcV+lGy0AAAAAAAAAAAAAAAAAAAAAAAAAAAAAAAAAAAAAAAAAAAAAAAAAAAAAAAAAAAAAAAAAAAAAAAAAAAAAAAAAAAAAAAAAAAAAAAAAAAAAAAAAAAAAAAAAAAAAAAAAAAAAAAAAAAAAAAAAAAAAAAAAAAAAAAAAAAAAAAAAAAAAAAAAAAAAAAAAAAAAAAAAAAAAWOATACMMZnKDH7YAAAAASUVORK5CYII='}, {'score': None, 'label': 'Right-leg', 'mask': 'iVBORw0KGgoAAAANSUhEUgAAA+gAAAXhCAAAAAAsF+/KAAAGdElEQVR4nO3aQQqDQBAAwTHk/18254DmFFzYrjrluOB0RtQZAAAAAAAAAAAAAAAAAAAAAAAAAAAAAAAAAAAAAAAAAAAAAAAAAAAAAAAAAAAAAAAAAAAAAAAAAAAAAAAAAAAAAAAAAAAAAAAAAAAAAAAAAAAAAAAAAAAAAAAAAAAAAAAAAAAAAAAAAAAAAAAAAAAAAAAAAAAAAAAAAAAAAAAAAAAAAAAAAAAAAAAAAAAAAAAAAAAAAAAAAAAAAAAAAAAAAAAAAAAAAAAAAAAAAAAAAAAAAAAAAAAAAAAAAAAAAAAAAAAAAAAAAAAAAAAAAAAAAAAAAAAAAAAAAAAAAAAAAAAAAAAAAAAAAAAAAAAAAAAAAAAAAAAAAAAAAAAAAAAAAAAAAAAAAAAAAAAAAAAAAAAAAAAAAAAAAAAAAAAAAAAAAAAAAAAAAAAAAAAAAAAAAAAAAAAAAAAAAAAAAAAAAAAAAAAAAAAAAAAAAAAAAAAAAAAAAAAAAAAAAAAAAAAAAAAAAAAAAAAAAAAAAAAAAAAAAAAAAAAAAAAAAAAAAAAAAAAAAAAAAAAAAAAAAAAAAAAAAAAAAAAAAAAAAAAAAAAAAAAAAAAAAAAAAAAAAAAAAAAAAAAAAAAAAAAAAAAAAAAAAAAAAAAAAAAAAAAAAAAAAAAAAAAAAAAAAAAAAAAAAAAAAAAAAAAAAAAAAAAAAAAAAAAAAAAAAAAAAAAAAAAAAAAAAAAAAAAAAAAAAAAAAAAAAAAAAAAAAAAAAAAAAAAAAAAAAAAAAAAAAAAAAAAAAAAAAAAAAAAAAAAAAAAAAAAAAAAAAAAAAAAAAAAAAAAAAAAAAAAAAAAAAAAAAAAAAAAAAAAAAAAAAAAAAAAAAAAAAAAAAAAAAAAAAAAAAAAAAAAAAAAAAAAAAAAAAAAAAAAAAAAAAAAAAAAAAAAAAAAAAAAAAAAAAAAAAAAAAAAAAAAAAAAAAAAAAAAAAAAAAAAAAAAAAAAAAAAAAAAAAAAAAAAAAAAAAAAAAAAAAAAAAAAAAAAAAAAAAAAAAAAAAAAAAAAAAAAAAAAAAAAAAAAAAAAAAAAAAAAAAAAAAAAAAAAAAAAAAAAAAAAAAAAAAAAAAAAAAAAAAAAAAAAAAAAAAAAAAAAAAAAAAAAAAAAAAAAAAAAAAAAAAAAAAAAAAAAAAAAAAAAAAAAAAAAAAAAAAAAAAAAAAAAAAAAAAAAAAAAAAAAAAAAAAAAAAAAAAAAAAAAAAAAAAAAAAAAAAAAAAAAAAAAAAAAAAAAAAAAAAAAAAAAAAAAAAAAAAAAAAAAAAAAAAAAAAAAAAAAAAAAAAAAAAAAAAAAAAAAAAAAAAAAAAAAAAAAAAAAAAAAAAAAAAAAAAAAAAAAAAAAAAAAAAAAAAAAAAAAAAAAAAAAAAAAAAAAAAAAAAAAAAAAAAAAAAAAAAAAAAAAAAAAAAAAAAAAAAAAAAAAAAAAAAAAAAAAAAAAAAAAAAAAAAAAAAAAAAAAAAAAAAAAAAAAAAAAAAAAAAAAAAAAAAAAAAAAAAAAAAAAAAAAAAAAAAAAAAAAAAAAAAAAAAAAAAAAAAAAAAAAAAAAAAAAAAAAAAAAAAAAAAAAAAAAAAAAAAAAAAAAAAAAAAAAAAAAAAAAAAAAAAAAAAAAAAAAAAAAAAAAAAAAAAAAAAAAAAAAAAAAAAAAAAAAAAAAAAAAAAAAAAAAAAAAAAAAAAAAAAAAAAAAAAAAAAAAAAAAA4o7VB2CdcwxAxXv1AVjhXH0AHuYPvee7chOQYKPXWOZJQi8ReZbQM1ReJvQGlce9Vh+AJ+i8zkYPkDk2+v50jo2+PZkzNvr2dM6M0CFB6JvzhSszQocEoUOA0CFA6BAgdAgQOgR4+xLw86MZE5DgMkfcxm4CEty6RxyCThN6htLLXP2Si/t3A9Bgo5eoOkvoKUqvEnqLZ3JRQq9RepLQ22QfIfQcbRcJvee4/MnWhB4k7x6hFyk9R+hJ3rIBAAAAAAAAAAAAAAAAAAAAAAAAAAAAAAAAAAAAAAAAAAAAAAAAAAAAAAAAAAAAAAAAAAAAAAAAAAAAAAAAAAAAAAAAAAAAAAAAAAAAAAAAAAAAAAAAAAAAAAAAAAAAAAAAAAAAAAAAAAAAAAAAAAAAAAAAAAAAAAAAAAAAAAAAAAAAAAAAAAAAAAAAAAAAAAAAAAAAAADAn30AexsPVxxkgSEAAAAASUVORK5CYII='}, {'score': None, 'label': 'Left-arm', 'mask': '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'}, {'score': None, 'label': 'Right-arm', 'mask': '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'}, {'score': None, 'label': 'Bag', 'mask': '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'}]\n"
     ]
    }
   ],
   "source": [
    "result = json.loads(result)\n",
    "print(result)"
   ]
  },
  {
   "cell_type": "code",
   "execution_count": 27,
   "id": "df2645070a0dc991",
   "metadata": {},
   "outputs": [
    {
     "name": "stderr",
     "output_type": "stream",
     "text": [
      "/var/folders/5t/1rxwb4lx7219l4yd8mp550gw0000gr/T/ipykernel_7680/1216478357.py:8: DeprecationWarning: The binary mode of fromstring is deprecated, as it behaves surprisingly on unicode inputs. Use frombuffer instead\n",
      "  nparr = np.fromstring(pred_decoded_byte, np.uint8)\n"
     ]
    },
    {
     "data": {
      "image/png": "[encoded data removed]",
      "text/plain": [
       "<Figure size 640x480 with 1 Axes>"
      ]
     },
     "metadata": {},
     "output_type": "display_data"
    },
    {
     "name": "stderr",
     "output_type": "stream",
     "text": [
      "/var/folders/5t/1rxwb4lx7219l4yd8mp550gw0000gr/T/ipykernel_7680/1216478357.py:16: DeprecationWarning: The binary mode of fromstring is deprecated, as it behaves surprisingly on unicode inputs. Use frombuffer instead\n",
      "  nparr = np.fromstring(pred_decoded_byte, np.uint8)\n"
     ]
    },
    {
     "data": {
      "image/png": "[encoded data removed]",
      "text/plain": [
       "<Figure size 640x480 with 1 Axes>"
      ]
     },
     "metadata": {},
     "output_type": "display_data"
    }
   ],
   "source": [
    "import matplotlib.pyplot as plt \n",
    "import base64\n",
    "import numpy as np\n",
    "import cv2\n",
    "for i in result:\n",
    "    if i['label'] == 'Upper-clothes':\n",
    "        pred_decoded_byte = base64.decodebytes(bytes(i['mask'], encoding=\"utf-8\"))\n",
    "        nparr = np.fromstring(pred_decoded_byte, np.uint8)\n",
    "        img_np = cv2.imdecode(nparr, cv2.IMREAD_COLOR) # cv2.IMREAD_COLOR in OpenCV 3.1\n",
    "\n",
    "        #cv2.imwrite('test-result.png', img_np)\n",
    "        plt.imshow(img_np)\n",
    "        plt.show()\n",
    "    elif i['label'] == 'Pants':\n",
    "        pred_decoded_byte = base64.decodebytes(bytes(i['mask'], encoding=\"utf-8\"))\n",
    "        nparr = np.fromstring(pred_decoded_byte, np.uint8)\n",
    "        img_np2 = cv2.imdecode(nparr, cv2.IMREAD_COLOR) # cv2.IMREAD_COLOR in OpenCV 3.1\n",
    "\n",
    "        #cv2.imwrite('test2-result.png', img_np2)\n",
    "        plt.imshow(img_np2)\n",
    "        plt.show()"
   ]
  },
  {
   "cell_type": "code",
   "execution_count": null,
   "id": "7704b505-abdc-4567-8e2b-cf0681a37926",
   "metadata": {},
   "outputs": [],
   "source": []
  }
 ],
 "metadata": {
  "availableInstances": [
   {
    "_defaultOrder": 0,
    "_isFastLaunch": true,
    "category": "General purpose",
    "gpuNum": 0,
    "hideHardwareSpecs": false,
    "memoryGiB": 4,
    "name": "ml.t3.medium",
    "vcpuNum": 2
   },
   {
    "_defaultOrder": 1,
    "_isFastLaunch": false,
    "category": "General purpose",
    "gpuNum": 0,
    "hideHardwareSpecs": false,
    "memoryGiB": 8,
    "name": "ml.t3.large",
    "vcpuNum": 2
   },
   {
    "_defaultOrder": 2,
    "_isFastLaunch": false,
    "category": "General purpose",
    "gpuNum": 0,
    "hideHardwareSpecs": false,
    "memoryGiB": 16,
    "name": "ml.t3.xlarge",
    "vcpuNum": 4
   },
   {
    "_defaultOrder": 3,
    "_isFastLaunch": false,
    "category": "General purpose",
    "gpuNum": 0,
    "hideHardwareSpecs": false,
    "memoryGiB": 32,
    "name": "ml.t3.2xlarge",
    "vcpuNum": 8
   },
   {
    "_defaultOrder": 4,
    "_isFastLaunch": true,
    "category": "General purpose",
    "gpuNum": 0,
    "hideHardwareSpecs": false,
    "memoryGiB": 8,
    "name": "ml.m5.large",
    "vcpuNum": 2
   },
   {
    "_defaultOrder": 5,
    "_isFastLaunch": false,
    "category": "General purpose",
    "gpuNum": 0,
    "hideHardwareSpecs": false,
    "memoryGiB": 16,
    "name": "ml.m5.xlarge",
    "vcpuNum": 4
   },
   {
    "_defaultOrder": 6,
    "_isFastLaunch": false,
    "category": "General purpose",
    "gpuNum": 0,
    "hideHardwareSpecs": false,
    "memoryGiB": 32,
    "name": "ml.m5.2xlarge",
    "vcpuNum": 8
   },
   {
    "_defaultOrder": 7,
    "_isFastLaunch": false,
    "category": "General purpose",
    "gpuNum": 0,
    "hideHardwareSpecs": false,
    "memoryGiB": 64,
    "name": "ml.m5.4xlarge",
    "vcpuNum": 16
   },
   {
    "_defaultOrder": 8,
    "_isFastLaunch": false,
    "category": "General purpose",
    "gpuNum": 0,
    "hideHardwareSpecs": false,
    "memoryGiB": 128,
    "name": "ml.m5.8xlarge",
    "vcpuNum": 32
   },
   {
    "_defaultOrder": 9,
    "_isFastLaunch": false,
    "category": "General purpose",
    "gpuNum": 0,
    "hideHardwareSpecs": false,
    "memoryGiB": 192,
    "name": "ml.m5.12xlarge",
    "vcpuNum": 48
   },
   {
    "_defaultOrder": 10,
    "_isFastLaunch": false,
    "category": "General purpose",
    "gpuNum": 0,
    "hideHardwareSpecs": false,
    "memoryGiB": 256,
    "name": "ml.m5.16xlarge",
    "vcpuNum": 64
   },
   {
    "_defaultOrder": 11,
    "_isFastLaunch": false,
    "category": "General purpose",
    "gpuNum": 0,
    "hideHardwareSpecs": false,
    "memoryGiB": 384,
    "name": "ml.m5.24xlarge",
    "vcpuNum": 96
   },
   {
    "_defaultOrder": 12,
    "_isFastLaunch": false,
    "category": "General purpose",
    "gpuNum": 0,
    "hideHardwareSpecs": false,
    "memoryGiB": 8,
    "name": "ml.m5d.large",
    "vcpuNum": 2
   },
   {
    "_defaultOrder": 13,
    "_isFastLaunch": false,
    "category": "General purpose",
    "gpuNum": 0,
    "hideHardwareSpecs": false,
    "memoryGiB": 16,
    "name": "ml.m5d.xlarge",
    "vcpuNum": 4
   },
   {
    "_defaultOrder": 14,
    "_isFastLaunch": false,
    "category": "General purpose",
    "gpuNum": 0,
    "hideHardwareSpecs": false,
    "memoryGiB": 32,
    "name": "ml.m5d.2xlarge",
    "vcpuNum": 8
   },
   {
    "_defaultOrder": 15,
    "_isFastLaunch": false,
    "category": "General purpose",
    "gpuNum": 0,
    "hideHardwareSpecs": false,
    "memoryGiB": 64,
    "name": "ml.m5d.4xlarge",
    "vcpuNum": 16
   },
   {
    "_defaultOrder": 16,
    "_isFastLaunch": false,
    "category": "General purpose",
    "gpuNum": 0,
    "hideHardwareSpecs": false,
    "memoryGiB": 128,
    "name": "ml.m5d.8xlarge",
    "vcpuNum": 32
   },
   {
    "_defaultOrder": 17,
    "_isFastLaunch": false,
    "category": "General purpose",
    "gpuNum": 0,
    "hideHardwareSpecs": false,
    "memoryGiB": 192,
    "name": "ml.m5d.12xlarge",
    "vcpuNum": 48
   },
   {
    "_defaultOrder": 18,
    "_isFastLaunch": false,
    "category": "General purpose",
    "gpuNum": 0,
    "hideHardwareSpecs": false,
    "memoryGiB": 256,
    "name": "ml.m5d.16xlarge",
    "vcpuNum": 64
   },
   {
    "_defaultOrder": 19,
    "_isFastLaunch": false,
    "category": "General purpose",
    "gpuNum": 0,
    "hideHardwareSpecs": false,
    "memoryGiB": 384,
    "name": "ml.m5d.24xlarge",
    "vcpuNum": 96
   },
   {
    "_defaultOrder": 20,
    "_isFastLaunch": false,
    "category": "General purpose",
    "gpuNum": 0,
    "hideHardwareSpecs": true,
    "memoryGiB": 0,
    "name": "ml.geospatial.interactive",
    "supportedImageNames": [
     "sagemaker-geospatial-v1-0"
    ],
    "vcpuNum": 0
   },
   {
    "_defaultOrder": 21,
    "_isFastLaunch": true,
    "category": "Compute optimized",
    "gpuNum": 0,
    "hideHardwareSpecs": false,
    "memoryGiB": 4,
    "name": "ml.c5.large",
    "vcpuNum": 2
   },
   {
    "_defaultOrder": 22,
    "_isFastLaunch": false,
    "category": "Compute optimized",
    "gpuNum": 0,
    "hideHardwareSpecs": false,
    "memoryGiB": 8,
    "name": "ml.c5.xlarge",
    "vcpuNum": 4
   },
   {
    "_defaultOrder": 23,
    "_isFastLaunch": false,
    "category": "Compute optimized",
    "gpuNum": 0,
    "hideHardwareSpecs": false,
    "memoryGiB": 16,
    "name": "ml.c5.2xlarge",
    "vcpuNum": 8
   },
   {
    "_defaultOrder": 24,
    "_isFastLaunch": false,
    "category": "Compute optimized",
    "gpuNum": 0,
    "hideHardwareSpecs": false,
    "memoryGiB": 32,
    "name": "ml.c5.4xlarge",
    "vcpuNum": 16
   },
   {
    "_defaultOrder": 25,
    "_isFastLaunch": false,
    "category": "Compute optimized",
    "gpuNum": 0,
    "hideHardwareSpecs": false,
    "memoryGiB": 72,
    "name": "ml.c5.9xlarge",
    "vcpuNum": 36
   },
   {
    "_defaultOrder": 26,
    "_isFastLaunch": false,
    "category": "Compute optimized",
    "gpuNum": 0,
    "hideHardwareSpecs": false,
    "memoryGiB": 96,
    "name": "ml.c5.12xlarge",
    "vcpuNum": 48
   },
   {
    "_defaultOrder": 27,
    "_isFastLaunch": false,
    "category": "Compute optimized",
    "gpuNum": 0,
    "hideHardwareSpecs": false,
    "memoryGiB": 144,
    "name": "ml.c5.18xlarge",
    "vcpuNum": 72
   },
   {
    "_defaultOrder": 28,
    "_isFastLaunch": false,
    "category": "Compute optimized",
    "gpuNum": 0,
    "hideHardwareSpecs": false,
    "memoryGiB": 192,
    "name": "ml.c5.24xlarge",
    "vcpuNum": 96
   },
   {
    "_defaultOrder": 29,
    "_isFastLaunch": true,
    "category": "Accelerated computing",
    "gpuNum": 1,
    "hideHardwareSpecs": false,
    "memoryGiB": 16,
    "name": "ml.g4dn.xlarge",
    "vcpuNum": 4
   },
   {
    "_defaultOrder": 30,
    "_isFastLaunch": false,
    "category": "Accelerated computing",
    "gpuNum": 1,
    "hideHardwareSpecs": false,
    "memoryGiB": 32,
    "name": "ml.g4dn.2xlarge",
    "vcpuNum": 8
   },
   {
    "_defaultOrder": 31,
    "_isFastLaunch": false,
    "category": "Accelerated computing",
    "gpuNum": 1,
    "hideHardwareSpecs": false,
    "memoryGiB": 64,
    "name": "ml.g4dn.4xlarge",
    "vcpuNum": 16
   },
   {
    "_defaultOrder": 32,
    "_isFastLaunch": false,
    "category": "Accelerated computing",
    "gpuNum": 1,
    "hideHardwareSpecs": false,
    "memoryGiB": 128,
    "name": "ml.g4dn.8xlarge",
    "vcpuNum": 32
   },
   {
    "_defaultOrder": 33,
    "_isFastLaunch": false,
    "category": "Accelerated computing",
    "gpuNum": 4,
    "hideHardwareSpecs": false,
    "memoryGiB": 192,
    "name": "ml.g4dn.12xlarge",
    "vcpuNum": 48
   },
   {
    "_defaultOrder": 34,
    "_isFastLaunch": false,
    "category": "Accelerated computing",
    "gpuNum": 1,
    "hideHardwareSpecs": false,
    "memoryGiB": 256,
    "name": "ml.g4dn.16xlarge",
    "vcpuNum": 64
   },
   {
    "_defaultOrder": 35,
    "_isFastLaunch": false,
    "category": "Accelerated computing",
    "gpuNum": 1,
    "hideHardwareSpecs": false,
    "memoryGiB": 61,
    "name": "ml.p3.2xlarge",
    "vcpuNum": 8
   },
   {
    "_defaultOrder": 36,
    "_isFastLaunch": false,
    "category": "Accelerated computing",
    "gpuNum": 4,
    "hideHardwareSpecs": false,
    "memoryGiB": 244,
    "name": "ml.p3.8xlarge",
    "vcpuNum": 32
   },
   {
    "_defaultOrder": 37,
    "_isFastLaunch": false,
    "category": "Accelerated computing",
    "gpuNum": 8,
    "hideHardwareSpecs": false,
    "memoryGiB": 488,
    "name": "ml.p3.16xlarge",
    "vcpuNum": 64
   },
   {
    "_defaultOrder": 38,
    "_isFastLaunch": false,
    "category": "Accelerated computing",
    "gpuNum": 8,
    "hideHardwareSpecs": false,
    "memoryGiB": 768,
    "name": "ml.p3dn.24xlarge",
    "vcpuNum": 96
   },
   {
    "_defaultOrder": 39,
    "_isFastLaunch": false,
    "category": "Memory Optimized",
    "gpuNum": 0,
    "hideHardwareSpecs": false,
    "memoryGiB": 16,
    "name": "ml.r5.large",
    "vcpuNum": 2
   },
   {
    "_defaultOrder": 40,
    "_isFastLaunch": false,
    "category": "Memory Optimized",
    "gpuNum": 0,
    "hideHardwareSpecs": false,
    "memoryGiB": 32,
    "name": "ml.r5.xlarge",
    "vcpuNum": 4
   },
   {
    "_defaultOrder": 41,
    "_isFastLaunch": false,
    "category": "Memory Optimized",
    "gpuNum": 0,
    "hideHardwareSpecs": false,
    "memoryGiB": 64,
    "name": "ml.r5.2xlarge",
    "vcpuNum": 8
   },
   {
    "_defaultOrder": 42,
    "_isFastLaunch": false,
    "category": "Memory Optimized",
    "gpuNum": 0,
    "hideHardwareSpecs": false,
    "memoryGiB": 128,
    "name": "ml.r5.4xlarge",
    "vcpuNum": 16
   },
   {
    "_defaultOrder": 43,
    "_isFastLaunch": false,
    "category": "Memory Optimized",
    "gpuNum": 0,
    "hideHardwareSpecs": false,
    "memoryGiB": 256,
    "name": "ml.r5.8xlarge",
    "vcpuNum": 32
   },
   {
    "_defaultOrder": 44,
    "_isFastLaunch": false,
    "category": "Memory Optimized",
    "gpuNum": 0,
    "hideHardwareSpecs": false,
    "memoryGiB": 384,
    "name": "ml.r5.12xlarge",
    "vcpuNum": 48
   },
   {
    "_defaultOrder": 45,
    "_isFastLaunch": false,
    "category": "Memory Optimized",
    "gpuNum": 0,
    "hideHardwareSpecs": false,
    "memoryGiB": 512,
    "name": "ml.r5.16xlarge",
    "vcpuNum": 64
   },
   {
    "_defaultOrder": 46,
    "_isFastLaunch": false,
    "category": "Memory Optimized",
    "gpuNum": 0,
    "hideHardwareSpecs": false,
    "memoryGiB": 768,
    "name": "ml.r5.24xlarge",
    "vcpuNum": 96
   },
   {
    "_defaultOrder": 47,
    "_isFastLaunch": false,
    "category": "Accelerated computing",
    "gpuNum": 1,
    "hideHardwareSpecs": false,
    "memoryGiB": 16,
    "name": "ml.g5.xlarge",
    "vcpuNum": 4
   },
   {
    "_defaultOrder": 48,
    "_isFastLaunch": false,
    "category": "Accelerated computing",
    "gpuNum": 1,
    "hideHardwareSpecs": false,
    "memoryGiB": 32,
    "name": "ml.g5.2xlarge",
    "vcpuNum": 8
   },
   {
    "_defaultOrder": 49,
    "_isFastLaunch": false,
    "category": "Accelerated computing",
    "gpuNum": 1,
    "hideHardwareSpecs": false,
    "memoryGiB": 64,
    "name": "ml.g5.4xlarge",
    "vcpuNum": 16
   },
   {
    "_defaultOrder": 50,
    "_isFastLaunch": false,
    "category": "Accelerated computing",
    "gpuNum": 1,
    "hideHardwareSpecs": false,
    "memoryGiB": 128,
    "name": "ml.g5.8xlarge",
    "vcpuNum": 32
   },
   {
    "_defaultOrder": 51,
    "_isFastLaunch": false,
    "category": "Accelerated computing",
    "gpuNum": 1,
    "hideHardwareSpecs": false,
    "memoryGiB": 256,
    "name": "ml.g5.16xlarge",
    "vcpuNum": 64
   },
   {
    "_defaultOrder": 52,
    "_isFastLaunch": false,
    "category": "Accelerated computing",
    "gpuNum": 4,
    "hideHardwareSpecs": false,
    "memoryGiB": 192,
    "name": "ml.g5.12xlarge",
    "vcpuNum": 48
   },
   {
    "_defaultOrder": 53,
    "_isFastLaunch": false,
    "category": "Accelerated computing",
    "gpuNum": 4,
    "hideHardwareSpecs": false,
    "memoryGiB": 384,
    "name": "ml.g5.24xlarge",
    "vcpuNum": 96
   },
   {
    "_defaultOrder": 54,
    "_isFastLaunch": false,
    "category": "Accelerated computing",
    "gpuNum": 8,
    "hideHardwareSpecs": false,
    "memoryGiB": 768,
    "name": "ml.g5.48xlarge",
    "vcpuNum": 192
   },
   {
    "_defaultOrder": 55,
    "_isFastLaunch": false,
    "category": "Accelerated computing",
    "gpuNum": 8,
    "hideHardwareSpecs": false,
    "memoryGiB": 1152,
    "name": "ml.p4d.24xlarge",
    "vcpuNum": 96
   },
   {
    "_defaultOrder": 56,
    "_isFastLaunch": false,
    "category": "Accelerated computing",
    "gpuNum": 8,
    "hideHardwareSpecs": false,
    "memoryGiB": 1152,
    "name": "ml.p4de.24xlarge",
    "vcpuNum": 96
   },
   {
    "_defaultOrder": 57,
    "_isFastLaunch": false,
    "category": "Accelerated computing",
    "gpuNum": 0,
    "hideHardwareSpecs": false,
    "memoryGiB": 32,
    "name": "ml.trn1.2xlarge",
    "vcpuNum": 8
   },
   {
    "_defaultOrder": 58,
    "_isFastLaunch": false,
    "category": "Accelerated computing",
    "gpuNum": 0,
    "hideHardwareSpecs": false,
    "memoryGiB": 512,
    "name": "ml.trn1.32xlarge",
    "vcpuNum": 128
   },
   {
    "_defaultOrder": 59,
    "_isFastLaunch": false,
    "category": "Accelerated computing",
    "gpuNum": 0,
    "hideHardwareSpecs": false,
    "memoryGiB": 512,
    "name": "ml.trn1n.32xlarge",
    "vcpuNum": 128
   }
  ],
  "instance_type": "ml.t3.medium",
  "kernelspec": {
   "display_name": "Python 3 (ipykernel)",
   "language": "python",
   "name": "python3"
  },
  "language_info": {
   "codemirror_mode": {
    "name": "ipython",
    "version": 3
   },
   "file_extension": ".py",
   "mimetype": "text/x-python",
   "name": "python",
   "nbconvert_exporter": "python",
   "pygments_lexer": "ipython3",
   "version": "3.8.18"
  }
 },
 "nbformat": 4,
 "nbformat_minor": 5
}
