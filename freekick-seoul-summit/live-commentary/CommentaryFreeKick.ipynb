{
 "cells": [
  {
   "cell_type": "code",
   "execution_count": null,
   "id": "83413253",
   "metadata": {},
   "outputs": [],
   "source": [
    "!pip install boto3 --upgrade"
   ]
  },
  {
   "cell_type": "code",
   "execution_count": 1,
   "id": "bf7f2d8a",
   "metadata": {},
   "outputs": [],
   "source": [
    "import boto3\n",
    "import json\n",
    "sagemaker_client = boto3.client('runtime.sagemaker')\n",
    "bedrock_client = boto3.client('bedrock-runtime')\n"
   ]
  },
  {
   "cell_type": "code",
   "execution_count": 72,
   "id": "5bbd74a6",
   "metadata": {},
   "outputs": [],
   "source": [
    "def preprocess_prompt_claude(event, language, writing_style):\n",
    "    system_styles = {\n",
    "        \"Twitter\": f\"You are a live ticker and soccer expert and able to create twitter tweets with emoji\",\n",
    "        \"Commentator\": f\"You are a live ticker and soccer expert\",\n",
    "    }\n",
    "    if writing_style not in system_styles:\n",
    "        raise ValueError(\"Unsupported writing style\")\n",
    "    \n",
    "    languages = {\n",
    "        \"German\": \"in german language\",\n",
    "        \"English\": \"\",\n",
    "        \"French\": \"in french language\",\n",
    "        \"Spanish\": \"in spanish language\",\n",
    "        \"Arabic\": \"in arabic language\",\n",
    "        \"Traditional Chinese\": \"in traditional chinese language\",\n",
    "        \"Turkish\": \"in turkish language\",\n",
    "        \"Dutch\": \"in dutch language\"\n",
    "\n",
    "    }\n",
    "    if language not in languages:\n",
    "        raise ValueError(\"Unsupported language\")\n",
    "\n",
    "    \n",
    "    sys_content = system_styles[writing_style] + \" \" + languages[language]\n",
    "\n",
    "    content = f\"players shoot at the goal. the aim is to shoot as hard as possible and at a high shooting speed. The system generates the following attributes for each shot in a json. shot_speed is measured in km/h. shot_distance in meters. shot_goal is true if the goal was hit, otherwise false. leaderboard_ranking indicates where this shot is now in the ranking. shots_done is the number of shots this person has already made. generate engaging commentary in one sentence.\"\n",
    "\n",
    "    prompt = f'''Human: {sys_content}\n",
    "    <event>\n",
    "    {event}\n",
    "    </event>\n",
    "    {content}\n",
    "    Do not introduce your output. write in the present. Write this in an exciting style just as a soccer commentator would.\n",
    "    Assistant:'''\n",
    "    return {\"prompt\": prompt,\n",
    "        \"max_tokens_to_sample\":100,\n",
    "        \"temperature\":0.3,\n",
    "        \"top_k\":250,\n",
    "        \"top_p\":0.5,\n",
    "        \"stop_sequences\":[]}"
   ]
  },
  {
   "cell_type": "code",
   "execution_count": 73,
   "id": "2b901091",
   "metadata": {},
   "outputs": [],
   "source": [
    "def call_llm_bedrock_claude_endpoint(payload, model_type):\n",
    "    model_id_mapping = {\n",
    "        'claude-v1': 'anthropic.claude-v1',\n",
    "        'claude-v2': 'anthropic.claude-v2',\n",
    "        'claude-instant': 'anthropic.claude-instant-v1'\n",
    "    }\n",
    "    \n",
    "    model_id = model_id_mapping.get(model_type)\n",
    "    if not model_id:\n",
    "        raise ValueError(f\"Invalid model_type: {model_type}\")\n",
    "\n",
    "    accept = 'application/json'\n",
    "    content_type = 'application/json'\n",
    "    body = json.dumps(payload)\n",
    "    response = bedrock_client.invoke_model(body=body, modelId=model_id, accept=accept, contentType=content_type)\n",
    "    result = json.loads(response.get('body').read())\n",
    "    return result.get('completion')\n"
   ]
  },
  {
   "cell_type": "code",
   "execution_count": 74,
   "id": "e81d1fca",
   "metadata": {},
   "outputs": [],
   "source": [
    "example_data = [\n",
    "  {\n",
    "    \"player_name\": \"John\",\n",
    "    \"shot_speed\": 120,\n",
    "    \"shot_distance\": 25,\n",
    "    \"shot_goal\": True,\n",
    "    \"leaderboard_ranking\": 1,\n",
    "    \"shots_done\": 15\n",
    "  },\n",
    "  {\n",
    "    \"player_name\": \"Sarah\",\n",
    "    \"shot_speed\": 110,\n",
    "    \"shot_distance\": 20,\n",
    "    \"shot_goal\": False,\n",
    "    \"leaderboard_ranking\": 2,\n",
    "    \"shots_done\": 18\n",
    "  },\n",
    "  {\n",
    "    \"player_name\": \"Mike\",\n",
    "    \"shot_speed\": 125,\n",
    "    \"shot_distance\": 28,\n",
    "    \"shot_goal\": True,\n",
    "    \"leaderboard_ranking\": 3,\n",
    "    \"shots_done\": 20\n",
    "  },\n",
    "  {\n",
    "    \"player_name\": \"Emily\",\n",
    "    \"shot_speed\": 115,\n",
    "    \"shot_distance\": 22,\n",
    "    \"shot_goal\": True,\n",
    "    \"leaderboard_ranking\": 4,\n",
    "    \"shots_done\": 14\n",
    "  },\n",
    "  {\n",
    "    \"player_name\": \"Alex\",\n",
    "    \"shot_speed\": 130,\n",
    "    \"shot_distance\": 30,\n",
    "    \"shot_goal\": True,\n",
    "    \"leaderboard_ranking\": 5,\n",
    "    \"shots_done\": 17\n",
    "  },\n",
    "  {\n",
    "    \"player_name\": \"Sophia\",\n",
    "    \"shot_speed\": 105,\n",
    "    \"shot_distance\": 18,\n",
    "    \"shot_goal\": False,\n",
    "    \"leaderboard_ranking\": 6,\n",
    "    \"shots_done\": 22\n",
    "  },\n",
    "  {\n",
    "    \"player_name\": \"Daniel\",\n",
    "    \"shot_speed\": 128,\n",
    "    \"shot_distance\": 29,\n",
    "    \"shot_goal\": True,\n",
    "    \"leaderboard_ranking\": 7,\n",
    "    \"shots_done\": 19\n",
    "  },\n",
    "  {\n",
    "    \"player_name\": \"Olivia\",\n",
    "    \"shot_speed\": 112,\n",
    "    \"shot_distance\": 21,\n",
    "    \"shot_goal\": True,\n",
    "    \"leaderboard_ranking\": 8,\n",
    "    \"shots_done\": 16\n",
    "  },\n",
    "  {\n",
    "    \"player_name\": \"Liam\",\n",
    "    \"shot_speed\": 118,\n",
    "    \"shot_distance\": 24,\n",
    "    \"shot_goal\": True,\n",
    "    \"leaderboard_ranking\": 9,\n",
    "    \"shots_done\": 21\n",
    "  },\n",
    "  {\n",
    "    \"player_name\": \"Ava\",\n",
    "    \"shot_speed\": 123,\n",
    "    \"shot_distance\": 27,\n",
    "    \"shot_goal\": True,\n",
    "    \"leaderboard_ranking\": 10,\n",
    "    \"shots_done\": 18\n",
    "  }\n",
    "]\n"
   ]
  },
  {
   "cell_type": "code",
   "execution_count": 75,
   "id": "dc502d20",
   "metadata": {},
   "outputs": [],
   "source": [
    "payload = preprocess_prompt_claude(example_data[1], \"Dutch\", \"Commentator\")"
   ]
  },
  {
   "cell_type": "code",
   "execution_count": 76,
   "id": "d277e962",
   "metadata": {},
   "outputs": [
    {
     "data": {
      "text/plain": [
       "{'player_name': 'Sarah',\n",
       " 'shot_speed': 110,\n",
       " 'shot_distance': 20,\n",
       " 'shot_goal': False,\n",
       " 'leaderboard_ranking': 2,\n",
       " 'shots_done': 18}"
      ]
     },
     "execution_count": 76,
     "metadata": {},
     "output_type": "execute_result"
    }
   ],
   "source": [
    "example_data[1]"
   ]
  },
  {
   "cell_type": "code",
   "execution_count": 78,
   "id": "5aa9aed2",
   "metadata": {},
   "outputs": [
    {
     "name": "stdout",
     "output_type": "stream",
     "text": [
      "CPU times: user 3.42 ms, sys: 0 ns, total: 3.42 ms\n",
      "Wall time: 1.01 s\n"
     ]
    },
    {
     "data": {
      "text/plain": [
       "' Sarah schiet hard maar mist net, met een snelheid van 110 kilometer per uur vanaf 20 meter! Ze blijft op de tweede plaats van de ranglijst staan met 18 geschoten pogingen.'"
      ]
     },
     "execution_count": 78,
     "metadata": {},
     "output_type": "execute_result"
    }
   ],
   "source": [
    "%%time\n",
    "call_llm_bedrock_claude_endpoint(payload,\"claude-instant\")"
   ]
  },
  {
   "cell_type": "code",
   "execution_count": null,
   "id": "9026319a",
   "metadata": {},
   "outputs": [],
   "source": []
  },
  {
   "cell_type": "code",
   "execution_count": null,
   "id": "d7d5087a",
   "metadata": {},
   "outputs": [],
   "source": []
  },
  {
   "cell_type": "code",
   "execution_count": 68,
   "id": "1f32f8cf",
   "metadata": {},
   "outputs": [
    {
     "name": "stdout",
     "output_type": "stream",
     "text": [
      "CPU times: user 4.91 ms, sys: 0 ns, total: 4.91 ms\n",
      "Wall time: 10.6 s\n"
     ]
    },
    {
     "data": {
      "text/plain": [
       "' En daar is Sarah weer met een venijnig schot! Met een snelheid van 110 km/uur jaagt ze de bal richting het doel. Helaas gaat haar poging net naast. Sarah blijft knap tweede in het klassement met al 18 schoten op haar naam. Ze zal ongetwijfeld nog een paar keer haar kans wagen vandaag. Wat een power bij deze dame!'"
      ]
     },
     "execution_count": 68,
     "metadata": {},
     "output_type": "execute_result"
    }
   ],
   "source": [
    "%%time\n",
    "call_llm_bedrock_claude_endpoint(payload,\"claude-v2\")"
   ]
  },
  {
   "cell_type": "code",
   "execution_count": null,
   "id": "f5c78b3d",
   "metadata": {},
   "outputs": [],
   "source": []
  },
  {
   "cell_type": "code",
   "execution_count": null,
   "id": "215d893d",
   "metadata": {},
   "outputs": [],
   "source": []
  },
  {
   "cell_type": "code",
   "execution_count": 42,
   "id": "3d21914b",
   "metadata": {},
   "outputs": [
    {
     "name": "stdout",
     "output_type": "stream",
     "text": [
      "CPU times: user 3.53 ms, sys: 0 ns, total: 3.53 ms\n",
      "Wall time: 4.03 s\n"
     ]
    },
    {
     "data": {
      "text/plain": [
       "\" Sarah steps up for her 19th shot of the day. She looks focused and determined. Sarah takes a few quick steps and FIRES! The ball rockets off her boot at an incredible 110 km/h! What power and technique! The ball sails through the air, but oh no, it's just off target, missing the goal by a mere 20 meters. So close! Sarah will have to settle for 2nd place on the leaderboard for now. What a thriller here today folks,\""
      ]
     },
     "execution_count": 42,
     "metadata": {},
     "output_type": "execute_result"
    }
   ],
   "source": [
    "%%time\n",
    "call_llm_bedrock_claude_endpoint(payload,\"claude-v1\")"
   ]
  },
  {
   "cell_type": "code",
   "execution_count": 43,
   "id": "551aaa8f",
   "metadata": {},
   "outputs": [
    {
     "name": "stdout",
     "output_type": "stream",
     "text": [
      "CPU times: user 3.55 ms, sys: 0 ns, total: 3.55 ms\n",
      "Wall time: 10.9 s\n"
     ]
    },
    {
     "data": {
      "text/plain": [
       "\" Sarah lines up for her 18th shot of the day. She winds up and strikes the ball with incredible power! The shot rockets off her foot at a blistering 110 km/h! But despite the sheer velocity, the shot veers wide, missing the goal from 20 meters out. Oh, so close! Sarah was hoping to move up from her 2nd place ranking, but this errant shot means she'll have to keep fighting. With shots that fast though, you know she has what\""
      ]
     },
     "execution_count": 43,
     "metadata": {},
     "output_type": "execute_result"
    }
   ],
   "source": [
    "%%time\n",
    "call_llm_bedrock_claude_endpoint(payload,\"claude-v2\")"
   ]
  },
  {
   "cell_type": "code",
   "execution_count": null,
   "id": "dcf654d3",
   "metadata": {},
   "outputs": [],
   "source": []
  },
  {
   "cell_type": "code",
   "execution_count": null,
   "id": "8a6a077c",
   "metadata": {},
   "outputs": [],
   "source": []
  }
 ],
 "metadata": {
  "kernelspec": {
   "display_name": "conda_python3",
   "language": "python",
   "name": "conda_python3"
  },
  "language_info": {
   "codemirror_mode": {
    "name": "ipython",
    "version": 3
   },
   "file_extension": ".py",
   "mimetype": "text/x-python",
   "name": "python",
   "nbconvert_exporter": "python",
   "pygments_lexer": "ipython3",
   "version": "3.10.12"
  }
 },
 "nbformat": 4,
 "nbformat_minor": 5
}
